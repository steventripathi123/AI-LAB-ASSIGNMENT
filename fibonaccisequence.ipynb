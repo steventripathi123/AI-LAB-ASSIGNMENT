{
  "nbformat": 4,
  "nbformat_minor": 0,
  "metadata": {
    "colab": {
      "provenance": [],
      "authorship_tag": "ABX9TyMgpMuz6TyAbJb6tTACRWvm",
      "include_colab_link": true
    },
    "kernelspec": {
      "name": "python3",
      "display_name": "Python 3"
    },
    "language_info": {
      "name": "python"
    }
  },
  "cells": [
    {
      "cell_type": "markdown",
      "metadata": {
        "id": "view-in-github",
        "colab_type": "text"
      },
      "source": [
        "<a href=\"https://colab.research.google.com/github/steventripathi123/AI-LAB-ASSIGNMENT/blob/main/fibonaccisequence.ipynb\" target=\"_parent\"><img src=\"https://colab.research.google.com/assets/colab-badge.svg\" alt=\"Open In Colab\"/></a>"
      ]
    },
    {
      "cell_type": "code",
      "execution_count": 5,
      "metadata": {
        "colab": {
          "base_uri": "https://localhost:8080/"
        },
        "id": "s3KL-H-_q1LF",
        "outputId": "a328bc3e-a02b-434a-f645-7cd7745b5bec"
      },
      "outputs": [
        {
          "output_type": "stream",
          "name": "stdout",
          "text": [
            "Enter the maximum number for the Fibonacci sequence: 15\n",
            "Fibonacci sequence up to 15: [0, 1, 1, 2, 3, 5, 8, 13]\n"
          ]
        }
      ],
      "source": [
        "#Write a program to generate the Fibonacci sequence of a given number.\n",
        "def generate_fibonacci(n):\n",
        "    \"\"\"Generate Fibonacci sequence up to the given number.\"\"\"\n",
        "    fib_sequence = [0, 1]\n",
        "\n",
        "    while fib_sequence[-1] + fib_sequence[-2] <= n:\n",
        "        next_term = fib_sequence[-1] + fib_sequence[-2]\n",
        "        fib_sequence.append(next_term)\n",
        "\n",
        "    return fib_sequence\n",
        "\n",
        "# Input the maximum number for the Fibonacci sequence\n",
        "max_number = int(input(\"Enter the maximum number for the Fibonacci sequence: \"))\n",
        "\n",
        "# Generate and display the Fibonacci sequence\n",
        "fibonacci_sequence = generate_fibonacci(max_number)\n",
        "print(f\"Fibonacci sequence up to {max_number}: {fibonacci_sequence}\")\n",
        "\n",
        "\n"
      ]
    }
  ]
}