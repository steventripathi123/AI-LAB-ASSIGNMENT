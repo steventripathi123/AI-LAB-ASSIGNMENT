{
  "nbformat": 4,
  "nbformat_minor": 0,
  "metadata": {
    "colab": {
      "provenance": [],
      "authorship_tag": "ABX9TyOql1Mcni1yxKP0OmvTCdcv",
      "include_colab_link": true
    },
    "kernelspec": {
      "name": "python3",
      "display_name": "Python 3"
    },
    "language_info": {
      "name": "python"
    }
  },
  "cells": [
    {
      "cell_type": "markdown",
      "metadata": {
        "id": "view-in-github",
        "colab_type": "text"
      },
      "source": [
        "<a href=\"https://colab.research.google.com/github/steventripathi123/AI-LAB-ASSIGNMENT/blob/main/numberguessinggame.ipynb\" target=\"_parent\"><img src=\"https://colab.research.google.com/assets/colab-badge.svg\" alt=\"Open In Colab\"/></a>"
      ]
    },
    {
      "cell_type": "code",
      "execution_count": null,
      "metadata": {
        "colab": {
          "base_uri": "https://localhost:8080/"
        },
        "id": "s3KL-H-_q1LF",
        "outputId": "d2c82c8f-e34c-4766-f97f-ccc562ecbc81"
      },
      "outputs": [
        {
          "output_type": "stream",
          "name": "stdout",
          "text": [
            "Welcome to the Number Guessing Game!\n",
            "I have chosen a number between 1 and 100. Try to guess it.\n",
            "Enter your guess: 6\n",
            "Too low! Try a higher number.\n",
            "Enter your guess: 99\n",
            "Too high! Try a lower number.\n",
            "Enter your guess: 0\n",
            "Too low! Try a higher number.\n",
            "Enter your guess: 55\n",
            "Too high! Try a lower number.\n",
            "Enter your guess: 34\n",
            "Too high! Try a lower number.\n"
          ]
        }
      ],
      "source": [
        "#Create a number guessing game. Where you have to generate a random number in between 1 to 100 and user have to prompt a number for guess. if its high or low number let the user know and guide them through the process to guess correct number.\n",
        "import random\n",
        "\n",
        "def guess_the_number():\n",
        "    # Generate a random number between 1 and 100\n",
        "    secret_number = random.randint(1, 100)\n",
        "\n",
        "    print(\"Welcome to the Number Guessing Game!\")\n",
        "    print(\"I have chosen a number between 1 and 100. Try to guess it.\")\n",
        "\n",
        "    attempts = 0\n",
        "\n",
        "    while True:\n",
        "        # Get user input for their guess\n",
        "        user_guess = int(input(\"Enter your guess: \"))\n",
        "        attempts += 1\n",
        "\n",
        "        # Check if the guess is correct\n",
        "        if user_guess == secret_number:\n",
        "            print(f\"Congratulations! You guessed the correct number {secret_number} in {attempts} attempts.\")\n",
        "            break\n",
        "        elif user_guess < secret_number:\n",
        "            print(\"Too low! Try a higher number.\")\n",
        "        else:\n",
        "            print(\"Too high! Try a lower number.\")\n",
        "\n",
        "# Run the game\n",
        "guess_the_number()\n"
      ]
    }
  ]
}