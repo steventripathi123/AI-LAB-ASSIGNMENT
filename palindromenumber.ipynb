{
  "nbformat": 4,
  "nbformat_minor": 0,
  "metadata": {
    "colab": {
      "provenance": [],
      "authorship_tag": "ABX9TyN11yuIfije88Jz1Xec+kd/",
      "include_colab_link": true
    },
    "kernelspec": {
      "name": "python3",
      "display_name": "Python 3"
    },
    "language_info": {
      "name": "python"
    }
  },
  "cells": [
    {
      "cell_type": "markdown",
      "metadata": {
        "id": "view-in-github",
        "colab_type": "text"
      },
      "source": [
        "<a href=\"https://colab.research.google.com/github/steventripathi123/AI-LAB-ASSIGNMENT/blob/main/palindromenumber.ipynb\" target=\"_parent\"><img src=\"https://colab.research.google.com/assets/colab-badge.svg\" alt=\"Open In Colab\"/></a>"
      ]
    },
    {
      "cell_type": "code",
      "execution_count": 6,
      "metadata": {
        "colab": {
          "base_uri": "https://localhost:8080/"
        },
        "id": "s3KL-H-_q1LF",
        "outputId": "085b3820-d958-42a6-d3d1-9091304d2f34"
      },
      "outputs": [
        {
          "output_type": "stream",
          "name": "stdout",
          "text": [
            "Enter a string to check for palindrome: 121\n",
            "121 is a palindrome.\n"
          ]
        }
      ],
      "source": [
        "#Write a program to check palindrome.\n",
        "def is_palindrome(s):\n",
        "    \"\"\"Check if a string is a palindrome.\"\"\"\n",
        "    # Remove spaces and convert to lowercase for case-insensitive comparison\n",
        "    s = s.replace(\" \", \"\").lower()\n",
        "    # Compare the original string with its reverse\n",
        "    return s == s[::-1]\n",
        "\n",
        "# Input string from the user\n",
        "input_string = input(\"Enter a string to check for palindrome: \")\n",
        "\n",
        "# Check and display the result\n",
        "if is_palindrome(input_string):\n",
        "    print(f\"{input_string} is a palindrome.\")\n",
        "else:\n",
        "    print(f\"{input_string} is not a palindrome.\")\n",
        "\n",
        "\n",
        "\n"
      ]
    }
  ]
}